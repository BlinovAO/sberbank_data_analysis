{
 "cells": [
  {
   "cell_type": "code",
   "execution_count": 28,
   "metadata": {},
   "outputs": [],
   "source": [
    "# Импортируем Библиотеки\n",
    "\n",
    "import numpy as np\n",
    "import cv2\n",
    "from scipy.interpolate import UnivariateSpline\n",
    "import matplotlib.pyplot as plt\n",
    "import matplotlib.image as mpimg\n",
    "from skimage import measure\n",
    "from scipy import ndimage \n",
    "import tkinter as tk\n",
    "from tkinter import filedialog\n",
    "%matplotlib inline"
   ]
  },
  {
   "cell_type": "markdown",
   "metadata": {},
   "source": [
    "Цель: \n",
    "        В данном проекте мы применяем различные фильтры к фотографии и сохроняем ее с фильтром\n",
    "\n",
    "Что получлось:\n",
    "        Получилось освоить основные инструменты корректировки цветов и корректировки резкости.\n",
    "        Получилось применять фильтры на фото, предварительно просматривать их и сохранять.\n",
    "\n",
    "Что не получилось:\n",
    "        Не получилось создать кнопку \"Сохранить\" для сохраниня на финальной стадии картинки с фильтром.\n",
    "        Хотелось бы после применения фильтра получать переменную, которая хранила бы информацию о файле\n",
    "        и примененном фильтре, далее код бы предлагал куда сохранить новый файл.\n",
    "    \n",
    "\n",
    "\n",
    "\n"
   ]
  },
  {
   "cell_type": "code",
   "execution_count": 45,
   "metadata": {},
   "outputs": [],
   "source": [
    "root=tk.Tk() #Вызываем диалоговое окно и выбираем файл для применения цветового фильтра\n",
    "root.withdraw()\n",
    "file_path=filedialog.askopenfilename()"
   ]
  },
  {
   "cell_type": "code",
   "execution_count": 46,
   "metadata": {},
   "outputs": [],
   "source": [
    "path=cv2.imread(file_path)\n",
    "img=cv2.cvtColor(path, cv2.COLOR_BGR2RGB)\n",
    "plt.rcParams['figure.figsize']=[15,15]\n",
    "\n",
    "def mapping_function(x,y):\n",
    "    spl=UnivariateSpline(x,y)\n",
    "    return spl(range(256))"
   ]
  },
  {
   "cell_type": "code",
   "execution_count": 31,
   "metadata": {},
   "outputs": [],
   "source": [
    "def apply_warm(image):#Теплый оттенок\n",
    "    increase=mapping_function([0,64,128,192,256],[0,70,140,210,256])\n",
    "    decrase=mapping_function([0,64,128,192,256],[0,40,90,150,256])\n",
    "    red,green,blue=cv2.split(image)\n",
    "    red=cv2.LUT(red,increase).astype(np.uint8)\n",
    "    blue=cv2.LUT(blue,decrase).astype(np.uint8)   \n",
    "    imige=cv2.merge((red,green,blue))\n",
    "    return imige"
   ]
  },
  {
   "cell_type": "code",
   "execution_count": 32,
   "metadata": {},
   "outputs": [],
   "source": [
    "def apply_cool(image): #Холодный оттенок\n",
    "    increase=mapping_function([0,64,128,192,256],[0,70,140,210,256])\n",
    "    decrase=mapping_function([0,64,128,192,256],[0,40,90,150,256])\n",
    "    red,green,blue=cv2.split(image)\n",
    "    red=cv2.LUT(red,decrase).astype(np.uint8)\n",
    "    blue=cv2.LUT(blue,increase).astype(np.uint8)   \n",
    "    imige=cv2.merge((red,green,blue))\n",
    "    return imige"
   ]
  },
  {
   "cell_type": "code",
   "execution_count": 33,
   "metadata": {},
   "outputs": [],
   "source": [
    "def Rotated_90(img): # Поворот на 90 градусов\n",
    "    (h, w, d) = img.shape\n",
    "    center = (w // 2, h // 2)\n",
    "    M = cv2.getRotationMatrix2D(center, 90, 1.0)   \n",
    "    rotated = cv2.warpAffine(img, M, (w, h))  \n",
    "    return rotated\n",
    "def Rotated_180(img):# Поворот на 180 градусов\n",
    "    (h, w, d) = img.shape\n",
    "    center = (w // 2, h // 2)\n",
    "    M = cv2.getRotationMatrix2D(center, 180, 1.0)   \n",
    "    rotated = cv2.warpAffine(img, M, (w, h))  \n",
    "    return rotated"
   ]
  },
  {
   "cell_type": "code",
   "execution_count": 34,
   "metadata": {},
   "outputs": [],
   "source": [
    "def increase_brightness(img, value=10): # Регулировка яркости\n",
    "    hsv = cv2.cvtColor(img, cv2.COLOR_BGR2HSV)\n",
    "    h, s, v = cv2.split(hsv)\n",
    "    lim = 255 - value\n",
    "    v[v > lim] = 255\n",
    "    v[v <= lim] += value\n",
    "    final_hsv = cv2.merge((h, s, v))\n",
    "    img = cv2.cvtColor(final_hsv, cv2.COLOR_HSV2BGR)\n",
    "    return img"
   ]
  },
  {
   "cell_type": "code",
   "execution_count": 35,
   "metadata": {},
   "outputs": [],
   "source": [
    "def Sharpening(img):    #Увеличение резкости\n",
    "    kernel = np.array([[-1,-1,-1], \n",
    "                       [-1, 9,-1],\n",
    "                       [-1,-1,-1]])\n",
    "    sharpened = cv2.filter2D(path,-1,kernel)\n",
    "    #rgb_image = cv2.cvtColor(sharpened, cv2.COLOR_BGR2RGB) - в данной фунции не получается реализовать, т.к неккоректно выводится цветовой фон\n",
    "    return  sharpened #rgb_image \n"
   ]
  },
  {
   "cell_type": "code",
   "execution_count": 36,
   "metadata": {},
   "outputs": [],
   "source": [
    "from ipywidgets import interact, interactive, fixed\n",
    "import ipywidgets as widgets\n",
    "# Прописываем условия для вывода:\n",
    "\n",
    "def choice (x, img):\n",
    "    if x=='Warm':\n",
    "        return plt.imshow(apply_warm(img))\n",
    "       # new_img=apply_warm(img)- надеялся, что получится таким образом создать переменную для дальнейшего сохранения\n",
    "    if x == 'Rotated 90':\n",
    "        return plt.imshow(Rotated_90(img))\n",
    "       # new_img=Rotated_90(img)\n",
    "    if x == 'Rotated 180':\n",
    "        return plt.imshow(Rotated_180(img))\n",
    "       # new_img=Rotated_180(img)\n",
    "    if x =='Cool':\n",
    "        return plt.imshow(apply_cool(img))\n",
    "       # new_img=apply_cool(img)\n",
    "    \n",
    "    if x =='increase_brightness':\n",
    "        return plt.imshow(increase_brightness(img))\n",
    "       # new_img=increase_brightness(img)\n",
    "    if x =='Sharpening':                    \n",
    "        return plt.imshow(Sharpening(img))\n",
    "      #  new_img=Sharpening(img)\n",
    "    if x == 'No filter':\n",
    "        return plt.imshow(img)"
   ]
  },
  {
   "cell_type": "code",
   "execution_count": 47,
   "metadata": {},
   "outputs": [
    {
     "data": {
      "application/vnd.jupyter.widget-view+json": {
       "model_id": "1fbece4e734c42dd8c462761ebbe5fa8",
       "version_major": 2,
       "version_minor": 0
      },
      "text/plain": [
       "interactive(children=(Dropdown(description='Filter', options=('No filter', 'Cool', 'Warm', 'Sharpening', 'incr…"
      ]
     },
     "metadata": {},
     "output_type": "display_data"
    },
    {
     "data": {
      "text/plain": [
       "<function __main__.choice(x, img)>"
      ]
     },
     "execution_count": 47,
     "metadata": {},
     "output_type": "execute_result"
    }
   ],
   "source": [
    "interact(choice, x=widgets.Dropdown(options=['No filter','Cool',\n",
    "                                             'Warm','Sharpening',\n",
    "                                             'increase_brightness',\n",
    "                                             'Rotated 90',\n",
    "                                             'Rotated 180'],description='Filter'), img=fixed(img))\n",
    "#Фильтр Shaping отображается в блокноте не корректно, но при выводе, файл сохраняется отлично\n"
   ]
  },
  {
   "cell_type": "code",
   "execution_count": 48,
   "metadata": {},
   "outputs": [
    {
     "data": {
      "text/plain": [
       "True"
      ]
     },
     "execution_count": 48,
     "metadata": {},
     "output_type": "execute_result"
    }
   ],
   "source": [
    "img_BGR=cv2.cvtColor(img, cv2.COLOR_RGB2BGR) #переводим в канал RGB для корреткного вывода файла\n",
    "# далеее вводим смостоятельно наименование файла и выбираем функцию\n",
    "img_filtr=apply_cool(img) #Заменяем apply_cool на любой понравившeйся фильтр :\n",
    "                          # apply_warm-из-за конвертации цветов добавит холодный оттенок\n",
    "                          # apply_cool-из-за конвертации цветов добавит теплый оттенок\n",
    "                          # Rotated_90-Поворот на 90 градусов влево\n",
    "                          # Rotated_180-Поворот на 180 градусов\n",
    "                          # increase_brightness - добавить яркость\n",
    "                          # Sharpening- добавить резкость                                                                            \"\"\"                                                                      \n",
    "                                                                                                                                                      \n",
    "                                                                            \n",
    "cv2.imwrite('test2.jpg', img_filtr) #Сохраняем файл (хотелось бы добавить диалоговое окно с выбором места для сохранения)"
   ]
  },
  {
   "cell_type": "code",
   "execution_count": null,
   "metadata": {},
   "outputs": [],
   "source": []
  }
 ],
 "metadata": {
  "kernelspec": {
   "display_name": "Python 3",
   "language": "python",
   "name": "python3"
  },
  "language_info": {
   "codemirror_mode": {
    "name": "ipython",
    "version": 3
   },
   "file_extension": ".py",
   "mimetype": "text/x-python",
   "name": "python",
   "nbconvert_exporter": "python",
   "pygments_lexer": "ipython3",
   "version": "3.8.3"
  }
 },
 "nbformat": 4,
 "nbformat_minor": 4
}
