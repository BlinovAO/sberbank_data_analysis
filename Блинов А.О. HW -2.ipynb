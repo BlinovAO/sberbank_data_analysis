{
 "cells": [
  {
   "cell_type": "code",
   "execution_count": 1,
   "metadata": {},
   "outputs": [],
   "source": [
    "import pandas as pd\n",
    "import numpy as np\n",
    "import seaborn as sns\n",
    "import matplotlib.pyplot as plt\n",
    "import time as tm\n",
    "import random as rnd\n",
    "from IPython import display\n",
    "%matplotlib inline"
   ]
  },
  {
   "cell_type": "markdown",
   "metadata": {},
   "source": [
    "# Задача 1\n"
   ]
  },
  {
   "cell_type": "code",
   "execution_count": null,
   "metadata": {},
   "outputs": [],
   "source": [
    "# Не понял как выполнить"
   ]
  },
  {
   "cell_type": "code",
   "execution_count": null,
   "metadata": {},
   "outputs": [],
   "source": []
  },
  {
   "cell_type": "code",
   "execution_count": null,
   "metadata": {},
   "outputs": [],
   "source": []
  },
  {
   "cell_type": "code",
   "execution_count": null,
   "metadata": {},
   "outputs": [],
   "source": []
  },
  {
   "cell_type": "markdown",
   "metadata": {},
   "source": [
    "# Задача 2"
   ]
  },
  {
   "cell_type": "code",
   "execution_count": null,
   "metadata": {},
   "outputs": [],
   "source": [
    "a = np.arange(2, 75, step=1)\n",
    "a[a%2 !=0]=-1\n",
    "a[a%2 !=0]"
   ]
  },
  {
   "cell_type": "markdown",
   "metadata": {},
   "source": [
    "# Задача 3"
   ]
  },
  {
   "cell_type": "code",
   "execution_count": 2,
   "metadata": {},
   "outputs": [
    {
     "name": "stdout",
     "output_type": "stream",
     "text": [
      "[ 3  4  5  7  8  9 11 12 13 15 16 17 19 20 21 23 24 25 27 28 29 31 32 33\n",
      " 35 36 37 39 40 41 43 44 45 47 48 49 51 52 53 55 56 57 59 60 61 63 64 65\n",
      " 67 68 69 71 72 73]\n"
     ]
    }
   ],
   "source": [
    "a = np.arange(2, 75, step=1)\n",
    "b=  np.arange(2, 75, step=4)\n",
    "newarr = np.setdiff1d(a,b, assume_unique=True)#Найдите в документации функцию, которая удаляет из одного массива элементы, которые есть в другом.\n",
    "print(newarr)\n"
   ]
  },
  {
   "cell_type": "markdown",
   "metadata": {},
   "source": [
    "# Задача 4"
   ]
  },
  {
   "cell_type": "code",
   "execution_count": 8,
   "metadata": {},
   "outputs": [
    {
     "name": "stdout",
     "output_type": "stream",
     "text": [
      "Максимальное значение:97.66639126472643\n",
      "Сумма элементов:1456.8867107679005\n"
     ]
    }
   ],
   "source": [
    "a = np.random.uniform(low=10, high=100, size=(5,5))# Создайте случайную квадратную матрицу случайного размера от 10 до 100.\n",
    "Max_a = a.max()#Найдите максимум \n",
    "print('Максимальное значение:{}'.format(Max_a))\n",
    "Sum_a =a.sum()#Найдите сумму элементов.\n",
    "print('Сумма элементов:{}'.format(Sum_a))"
   ]
  },
  {
   "cell_type": "code",
   "execution_count": 9,
   "metadata": {},
   "outputs": [
    {
     "data": {
      "text/plain": [
       "array([[11.56664436, 16.22965447, 62.77130621, 45.11125593, 68.32324905],\n",
       "       [53.12389367, 69.91555636, 50.93180173, 46.73194534, 72.6029109 ],\n",
       "       [90.59344544, 80.07428397, 74.14552096, 95.66259591, -1.        ],\n",
       "       [58.28523003, 77.10734217, 42.24442361, 61.6568142 , 41.15735049],\n",
       "       [18.75750126, 63.28741756, 89.88351028, 22.60241445, 46.45425114]])"
      ]
     },
     "execution_count": 9,
     "metadata": {},
     "output_type": "execute_result"
    }
   ],
   "source": [
    "#Замените максимальное значение на -1. \n",
    "a[a==a.max()]=-1\n",
    "a"
   ]
  },
  {
   "cell_type": "markdown",
   "metadata": {},
   "source": [
    "# Задача 5"
   ]
  },
  {
   "cell_type": "code",
   "execution_count": 26,
   "metadata": {},
   "outputs": [],
   "source": [
    "def replace_pass(x_in):\n",
    "    x = x_in.copy()\n",
    "    if np.sum(np.isnan(x)) == n * k:\n",
    "        x[np.isnan(x)] = 0\n",
    "        print(0)\n",
    "    else:\n",
    "        xmean = np.nanmean(x)\n",
    "        x[np.isnan(x)] = xmean\n",
    "    print('Среднее значение {}'.format(xmean))\n",
    "    return x\n"
   ]
  },
  {
   "cell_type": "code",
   "execution_count": 27,
   "metadata": {},
   "outputs": [
    {
     "name": "stdout",
     "output_type": "stream",
     "text": [
      "[[       nan        nan 0.15383824 0.49585958 0.91569924]\n",
      " [0.58004801 0.10765633 0.32238488 0.92438715        nan]\n",
      " [0.40702195 0.42090133 0.30301765        nan 0.29393314]\n",
      " [0.32642629 0.53051475 0.1687053  0.46056405 0.68358002]\n",
      " [0.38719767 0.45551624 0.34480298        nan 0.6571906 ]]\n",
      "Среднее значение 0.44696226960407587\n",
      "[[0.44696227 0.44696227 0.15383824 0.49585958 0.91569924]\n",
      " [0.58004801 0.10765633 0.32238488 0.92438715 0.44696227]\n",
      " [0.40702195 0.42090133 0.30301765 0.44696227 0.29393314]\n",
      " [0.32642629 0.53051475 0.1687053  0.46056405 0.68358002]\n",
      " [0.38719767 0.45551624 0.34480298 0.44696227 0.6571906 ]]\n"
     ]
    }
   ],
   "source": [
    "n = 5\n",
    "k = 5\n",
    "p = 5\n",
    "x = np.random.random((n, k))\n",
    "for i in range(5):\n",
    "    x[rnd.randint(0, n - 1), rnd.randint(0, k - 1)] = np.nan\n",
    "print(x)\n",
    "print(replace_pass(x))"
   ]
  },
  {
   "cell_type": "markdown",
   "metadata": {},
   "source": [
    "# Задание 6"
   ]
  },
  {
   "cell_type": "code",
   "execution_count": 40,
   "metadata": {},
   "outputs": [],
   "source": [
    "def normalization(x1):\n",
    "    x = x1.copy()\n",
    "    xmax = x.max()\n",
    "    x = x/xmax\n",
    "    return x"
   ]
  },
  {
   "cell_type": "code",
   "execution_count": 51,
   "metadata": {},
   "outputs": [
    {
     "name": "stdout",
     "output_type": "stream",
     "text": [
      "Нормализованный массив:\n",
      "[[0.87755102 0.19387755 0.59183673 0.70408163 0.65306122]\n",
      " [0.6122449  0.40816327 0.60204082 0.80612245 0.95918367]\n",
      " [0.15306122 0.28571429 0.01020408 0.89795918 0.89795918]\n",
      " [0.37755102 0.19387755 1.         0.64285714 0.24489796]\n",
      " [0.19387755 0.47959184 0.83673469 0.84693878 1.        ]]\n"
     ]
    }
   ],
   "source": [
    "p = 8\n",
    "x = np.random.randint(0, 100, size=(5, 5))\n",
    "norm_df=normalization(x)\n",
    "print('Нормализованный массив:\\n{}'.format(norm_df))"
   ]
  },
  {
   "cell_type": "markdown",
   "metadata": {},
   "source": [
    "# Задание 7"
   ]
  },
  {
   "cell_type": "code",
   "execution_count": 52,
   "metadata": {},
   "outputs": [],
   "source": [
    "np.save('Text_in_np', norm_df)"
   ]
  },
  {
   "cell_type": "code",
   "execution_count": 53,
   "metadata": {},
   "outputs": [
    {
     "data": {
      "text/plain": [
       "array([[0.87755102, 0.19387755, 0.59183673, 0.70408163, 0.65306122],\n",
       "       [0.6122449 , 0.40816327, 0.60204082, 0.80612245, 0.95918367],\n",
       "       [0.15306122, 0.28571429, 0.01020408, 0.89795918, 0.89795918],\n",
       "       [0.37755102, 0.19387755, 1.        , 0.64285714, 0.24489796],\n",
       "       [0.19387755, 0.47959184, 0.83673469, 0.84693878, 1.        ]])"
      ]
     },
     "execution_count": 53,
     "metadata": {},
     "output_type": "execute_result"
    }
   ],
   "source": [
    "df = np.load('Text_in_np.npy')\n",
    "df"
   ]
  },
  {
   "cell_type": "markdown",
   "metadata": {},
   "source": [
    "# Задание 8"
   ]
  },
  {
   "cell_type": "code",
   "execution_count": 57,
   "metadata": {},
   "outputs": [
    {
     "name": "stdout",
     "output_type": "stream",
     "text": [
      "Исходный массив:\n",
      " [[33 68 56 74 91  6]\n",
      " [98 16  4 53 21 45]\n",
      " [ 4 33 89 68 35 85]\n",
      " [90 16 18 54 68 12]\n",
      " [15 27 76 18  2 51]\n",
      " [55 36 27 40 78 80]]\n",
      "Ближайший к 100 элемент равен [98], его индексы: [1] и [0].\n"
     ]
    }
   ],
   "source": [
    "x = np.random.randint(1, 100, size=(6, 6))\n",
    "print(f'Исходный массив:\\n {x}')\n",
    "p = 100\n",
    "r = np.abs(x - p)\n",
    "mr = r.min()\n",
    "i, j = np.where(r == mr)\n",
    "print(f'Ближайший к {p} элемент равен {x[i, j]}, его индексы: {i} и {j}.')"
   ]
  },
  {
   "cell_type": "markdown",
   "metadata": {},
   "source": [
    "# Задание 9"
   ]
  },
  {
   "cell_type": "code",
   "execution_count": null,
   "metadata": {},
   "outputs": [],
   "source": []
  },
  {
   "cell_type": "markdown",
   "metadata": {},
   "source": [
    "# Задание 10"
   ]
  },
  {
   "cell_type": "code",
   "execution_count": 67,
   "metadata": {},
   "outputs": [],
   "source": [
    "def sort_matrix(x, k):\n",
    "    return x[x[:,k].argsort()]"
   ]
  },
  {
   "cell_type": "code",
   "execution_count": 82,
   "metadata": {},
   "outputs": [
    {
     "name": "stdout",
     "output_type": "stream",
     "text": [
      "Исходный массив:\n",
      " [[ 7 11 34 75 68 24 36 11  4 73]\n",
      " [ 6 49 90  4 56 51 28 10 38  4]\n",
      " [79 11 66 71 28 21 88 52 23  9]\n",
      " [94  2  2 69 78 54 26  6 27 54]\n",
      " [71 50 14 46 91 34 81 45 87 22]]\n",
      "Отсортированный по столбцу 5 массив:\n",
      " [[79 11 66 71 28 21 88 52 23  9]\n",
      " [ 7 11 34 75 68 24 36 11  4 73]\n",
      " [71 50 14 46 91 34 81 45 87 22]\n",
      " [ 6 49 90  4 56 51 28 10 38  4]\n",
      " [94  2  2 69 78 54 26  6 27 54]]\n"
     ]
    }
   ],
   "source": [
    "k=5\n",
    "x = np.random.randint(1, 100, size=(5, 10))\n",
    "print(f'Исходный массив:\\n {x}')\n",
    "y = sort_matrix(x, k)\n",
    "print(f'Отсортированный по столбцу {k} массив:\\n {y}')"
   ]
  },
  {
   "cell_type": "markdown",
   "metadata": {},
   "source": [
    "# Задание 11"
   ]
  },
  {
   "cell_type": "code",
   "execution_count": 83,
   "metadata": {},
   "outputs": [],
   "source": [
    "\n",
    "def chessboard(k):\n",
    "    return np.tile(a, (k//2, k//2))"
   ]
  },
  {
   "cell_type": "code",
   "execution_count": 85,
   "metadata": {},
   "outputs": [
    {
     "data": {
      "text/plain": [
       "array([[1, 0, 1, 0, 1, 0, 1, 0],\n",
       "       [0, 1, 0, 1, 0, 1, 0, 1],\n",
       "       [1, 0, 1, 0, 1, 0, 1, 0],\n",
       "       [0, 1, 0, 1, 0, 1, 0, 1],\n",
       "       [1, 0, 1, 0, 1, 0, 1, 0],\n",
       "       [0, 1, 0, 1, 0, 1, 0, 1],\n",
       "       [1, 0, 1, 0, 1, 0, 1, 0],\n",
       "       [0, 1, 0, 1, 0, 1, 0, 1]])"
      ]
     },
     "execution_count": 85,
     "metadata": {},
     "output_type": "execute_result"
    }
   ],
   "source": [
    "\n",
    "k = 8\n",
    "a = [[1, 0], [0, 1]]\n",
    "b = chessboard(k)\n",
    "b"
   ]
  },
  {
   "cell_type": "code",
   "execution_count": null,
   "metadata": {},
   "outputs": [],
   "source": []
  }
 ],
 "metadata": {
  "kernelspec": {
   "display_name": "Python 3",
   "language": "python",
   "name": "python3"
  },
  "language_info": {
   "codemirror_mode": {
    "name": "ipython",
    "version": 3
   },
   "file_extension": ".py",
   "mimetype": "text/x-python",
   "name": "python",
   "nbconvert_exporter": "python",
   "pygments_lexer": "ipython3",
   "version": "3.8.3"
  }
 },
 "nbformat": 4,
 "nbformat_minor": 4
}
